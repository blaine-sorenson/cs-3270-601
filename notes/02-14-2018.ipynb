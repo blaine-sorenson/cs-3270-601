{
 "cells": [
  {
   "cell_type": "markdown",
   "metadata": {},
   "source": [
    "## Functional Exercises\n",
    "\n",
    "Today's discussion is going to revolve around generators, decorators and general functional programming practices and\n",
    "how those practices can apply to python."
   ]
  },
  {
   "cell_type": "code",
   "execution_count": 1,
   "metadata": {
    "collapsed": true
   },
   "outputs": [],
   "source": [
    "from pprint import pprint\n",
    "import random\n",
    "import sys\n",
    "sys.path.insert(0, './series')"
   ]
  },
  {
   "cell_type": "markdown",
   "metadata": {},
   "source": [
    "## Exercise\n",
    "\n",
    "_Scopes and Exceptions_   \n",
    "\n",
    "For this exercise section we are going to get more familiar with both\n",
    "scopes and exceptions.  \n",
    "\n",
    "* Get familiar with scope\n",
    "  * Create a variable `x = 1` and print out the globals() entry for `x`\n",
    "  * Create a function that prints out the value of the global variable `x`  \n",
    "  * In the same function, after printing, set `x` to 1\n",
    "  * Add the statement `global x` as the first line in the function\n",
    "   \n",
    "<Answer\n",
    "x = 1\n",
    "#globals()\n",
    "\n",
    "def test():\n",
    "    global x\n",
    "    print(x)\n",
    "    x = 2\n",
    "\n",
    "test()\n",
    "print(x)\n",
    ">"
   ]
  },
  {
   "cell_type": "code",
   "execution_count": 7,
   "metadata": {
    "collapsed": false
   },
   "outputs": [
    {
     "name": "stdout",
     "output_type": "stream",
     "text": [
      "10\n",
      "20\n",
      "20\n"
     ]
    }
   ],
   "source": [
    "# This is C code, and will error\n",
    "#int x = 10;\n",
    "#if (x < 20) {\n",
    "#    int y = 30;\n",
    "#}\n",
    "#cout << y << endl;\n",
    "\n",
    "x = 10\n",
    "print(10)\n",
    "if 8 < 10:\n",
    "    y = 20\n",
    "print(y)\n",
    "globals()['x'] = 20\n",
    "print(x)"
   ]
  },
  {
   "cell_type": "code",
   "execution_count": 13,
   "metadata": {
    "collapsed": false
   },
   "outputs": [
    {
     "name": "stdout",
     "output_type": "stream",
     "text": [
      "you\n",
      "me\n"
     ]
    }
   ],
   "source": [
    "def print_me():\n",
    "    #print(x) - This will fail with Unbound error\n",
    "    x = 'you'\n",
    "    print(x)\n",
    "x = 'me'\n",
    "    \n",
    "print_me()\n",
    "print(x)"
   ]
  },
  {
   "cell_type": "code",
   "execution_count": 19,
   "metadata": {
    "collapsed": false
   },
   "outputs": [
    {
     "name": "stdout",
     "output_type": "stream",
     "text": [
      "you\n"
     ]
    }
   ],
   "source": [
    "def update_me():\n",
    "    #x = 'you'\n",
    "    global x\n",
    "    x = 'you'\n",
    "\n",
    "x = 'me'\n",
    "update_me()\n",
    "print(x)"
   ]
  },
  {
   "cell_type": "code",
   "execution_count": 24,
   "metadata": {
    "collapsed": false
   },
   "outputs": [
    {
     "name": "stdout",
     "output_type": "stream",
     "text": [
      "<class 'Exception'> You will always fail\n"
     ]
    }
   ],
   "source": [
    "x = 20\n",
    "try:\n",
    "    if x < 10:\n",
    "        raise ValueError('x is not greater than 10')\n",
    "    else:\n",
    "        raise Exception('You will always fail')\n",
    "#except (ValueError, Exception) as e:\n",
    "except ValueError as e:\n",
    "    print(type(e), e)\n",
    "except Exception as e:\n",
    "    print(type(e), e)"
   ]
  },
  {
   "cell_type": "code",
   "execution_count": 28,
   "metadata": {
    "collapsed": false
   },
   "outputs": [
    {
     "name": "stdout",
     "output_type": "stream",
     "text": [
      "x is not less than 10\n",
      "All done\n"
     ]
    }
   ],
   "source": [
    "x = 5\n",
    "try:\n",
    "    if x < 10:\n",
    "        raise ValueError('x is not less than 10')\n",
    "except ValueError as e:\n",
    "    print(e)\n",
    "finally:\n",
    "    #print(e)\n",
    "    print('All done')"
   ]
  },
  {
   "cell_type": "markdown",
   "metadata": {},
   "source": [
    "## In Depth\n",
    "\n",
    "We will start by taking a \"database\", players, that is defined below and running operations against the database.  Lets view\n",
    "the data we are going to load. "
   ]
  },
  {
   "cell_type": "code",
   "execution_count": 29,
   "metadata": {
    "collapsed": false
   },
   "outputs": [
    {
     "name": "stdout",
     "output_type": "stream",
     "text": [
      "[(1996, 'ALCS', 'NYA', 'AL', 'BAL', 'AL', 4, 1, 0)]\n"
     ]
    }
   ],
   "source": [
    "from series import season_series\n",
    "\n",
    "# season_stats format\n",
    "# year,round,winner,win_name,loser,loser_name,wins,losses,ties\n",
    "print(random.sample(season_series, 1))"
   ]
  },
  {
   "cell_type": "markdown",
   "metadata": {},
   "source": [
    "1. Create a dict of all series games keyed by series type\n",
    "  * each of the entries should be a dict with year, winners (tuple), losers (tuple) and games played (tuple)\n",
    "2. Capture all world_series in a variable `world_series` and print results (maximum of 5)\n",
    "3. Print the years the world series went all 7 games (sorted)\n",
    "4. Print the winners of world series, with how many world series that they have won\n",
    "\n",
    "<Answer: \n",
    "part 1\n",
    "series_dict = {}\n",
    "for series in season_series:\n",
    "    if series[1] not in series_dict:\n",
    "        series_dict[series[1]] = list()\n",
    "    series_dict[series[1]].append(\n",
    "        {'year': series[0], \n",
    "         'winners': (series[2:4]), \n",
    "         'losers': (series[4:6]), \n",
    "         'games': {series[6:]}})\n",
    "         \n",
    "all_series = {\n",
    "    s[1]: [{\n",
    "        'year': g[0],\n",
    "        'winners': g[2:4],\n",
    "        'losers': g[4:6],\n",
    "        'games': g[6:]\n",
    "    } for g in season_series if g[1] == s[1]]\n",
    "    for s in season_series\n",
    "}\n",
    "         \n",
    "part 2\n",
    "world_series = series_dict['WS']\n",
    "pprint(all_series['WS'][:10])\n",
    "\n",
    "part 3\n",
    "seven_games = []\n",
    "for year in world_series:\n",
    "    if {(4, 3, 0)} & year['games']:\n",
    "        seven_games.append(year['year'])\n",
    "seven_games.sort()\n",
    "pprint(seven_games) \n",
    "\n",
    "part 4\n",
    "winners = {}\n",
    "for year in world_series:\n",
    "    winner = year['winners']\n",
    "    if winner[1] in winners:\n",
    "        winners[winner[0]] += 1\n",
    "    else:\n",
    "        winners[winner[0]] = 1\n",
    "pprint(winners)\n",
    "\n",
    "\n",
    "from collections import Counter\n",
    "\n",
    "Counter([x['winners'][0] for x in world_series])\n",
    ">"
   ]
  },
  {
   "cell_type": "code",
   "execution_count": 39,
   "metadata": {
    "collapsed": false
   },
   "outputs": [
    {
     "name": "stdout",
     "output_type": "stream",
     "text": [
      "[{'games': (4, 3, 0),\n",
      "  'losers': ('CLE', 'AL'),\n",
      "  'winners': ('FLO', 'NL'),\n",
      "  'year': 1997},\n",
      " {'games': (4, 3, 0),\n",
      "  'losers': ('SLN', 'NL'),\n",
      "  'winners': ('MIN', 'AL'),\n",
      "  'year': 1987}]\n"
     ]
    }
   ],
   "source": [
    "# Part 1\n",
    "series_dict = {}\n",
    "for series in season_series:\n",
    "    if series[1] not in series_dict:\n",
    "        series_dict[series[1]] = []\n",
    "    series_details = {\n",
    "        'year': series[0],\n",
    "        'winners': series[2:4],  #(series[2], series[3])\n",
    "        'losers': series[4:6],\n",
    "        'games': series[6:]\n",
    "    }\n",
    "    series_dict[series[1]].append(series_details)\n",
    "pprint(series_dict['WS'][:2])\n",
    "\n",
    "\n",
    "#series_years = [s['year'] for s in series_dict['WS']]\n",
    "#print(sorted(series_years))\n",
    "\n",
    "#pprint(all_series.keys())"
   ]
  },
  {
   "cell_type": "code",
   "execution_count": 52,
   "metadata": {
    "collapsed": false
   },
   "outputs": [
    {
     "name": "stdout",
     "output_type": "stream",
     "text": [
      "[{'games': (4, 3, 0),\n",
      "  'losers': ('CLE', 'AL'),\n",
      "  'winners': ('FLO', 'NL'),\n",
      "  'year': 1997},\n",
      " {'games': (4, 3, 0),\n",
      "  'losers': ('SLN', 'NL'),\n",
      "  'winners': ('MIN', 'AL'),\n",
      "  'year': 1987}]\n"
     ]
    }
   ],
   "source": [
    "series_dict = {\n",
    "    k: [{\n",
    "        'year': s[0],\n",
    "        'winners': s[2:4],  #(series[2], series[3])\n",
    "        'losers': s[4:6],\n",
    "        'games': s[6:]\n",
    "    } for s in season_series if k == s[1]]\n",
    "    for k in set([y[1] for y in season_series])\n",
    "    #for k in season_series\n",
    "}\n",
    "pprint(series_dict['WS'][:2])\n",
    "#len(season_series)"
   ]
  },
  {
   "cell_type": "code",
   "execution_count": 54,
   "metadata": {
    "collapsed": false
   },
   "outputs": [
    {
     "name": "stdout",
     "output_type": "stream",
     "text": [
      "[{'games': (4, 3, 0),\n",
      "  'losers': ('CLE', 'AL'),\n",
      "  'winners': ('FLO', 'NL'),\n",
      "  'year': 1997},\n",
      " {'games': (4, 3, 0),\n",
      "  'losers': ('SLN', 'NL'),\n",
      "  'winners': ('MIN', 'AL'),\n",
      "  'year': 1987},\n",
      " {'games': (4, 3, 0),\n",
      "  'losers': ('SFN', 'NL'),\n",
      "  'winners': ('ANA', 'AL'),\n",
      "  'year': 2002},\n",
      " {'games': (4, 3, 0),\n",
      "  'losers': ('TEX', 'AL'),\n",
      "  'winners': ('SLN', 'NL'),\n",
      "  'year': 2011},\n",
      " {'games': (4, 3, 0),\n",
      "  'losers': ('BOS', 'AL'),\n",
      "  'winners': ('NYN', 'NL'),\n",
      "  'year': 1986}]\n"
     ]
    }
   ],
   "source": [
    "# Part 3\n",
    "seven_game_ws = [\n",
    "    s for s in series_dict['WS']\n",
    "    if sum(s['games']) == 7\n",
    "]\n",
    "pprint(seven_game_ws[:5])"
   ]
  },
  {
   "cell_type": "code",
   "execution_count": 56,
   "metadata": {
    "collapsed": false
   },
   "outputs": [
    {
     "name": "stdout",
     "output_type": "stream",
     "text": [
      "{('ANA', 'AL'): 1,\n",
      " ('ARI', 'NL'): 1,\n",
      " ('ATL', 'NL'): 1,\n",
      " ('BAL', 'AL'): 1,\n",
      " ('BOS', 'AL'): 3,\n",
      " ('CHA', 'AL'): 1,\n",
      " ('CIN', 'NL'): 1,\n",
      " ('DET', 'AL'): 1,\n",
      " ('FLO', 'NL'): 2,\n",
      " ('KCA', 'AL'): 1,\n",
      " ('LAN', 'NL'): 2,\n",
      " ('MIN', 'AL'): 2,\n",
      " ('NYA', 'AL'): 5,\n",
      " ('NYN', 'NL'): 1,\n",
      " ('OAK', 'AL'): 1,\n",
      " ('PHI', 'NL'): 2,\n",
      " ('SFN', 'NL'): 2,\n",
      " ('SLN', 'NL'): 3,\n",
      " ('TOR', 'AL'): 2}\n"
     ]
    }
   ],
   "source": [
    "# Part 4\n",
    "\n",
    "ws_winners = {\n",
    "    s['winners']: len([x for x in series_dict['WS'] if x['winners'] == s['winners']])\n",
    "    for s in series_dict['WS']\n",
    "}\n",
    "pprint(ws_winners)"
   ]
  },
  {
   "cell_type": "code",
   "execution_count": null,
   "metadata": {
    "collapsed": true
   },
   "outputs": [],
   "source": [
    "# Part 4\n"
   ]
  },
  {
   "cell_type": "code",
   "execution_count": null,
   "metadata": {
    "collapsed": true
   },
   "outputs": [],
   "source": []
  }
 ],
 "metadata": {
  "kernelspec": {
   "display_name": "Python 3",
   "language": "python",
   "name": "python3"
  },
  "language_info": {
   "codemirror_mode": {
    "name": "ipython",
    "version": 3
   },
   "file_extension": ".py",
   "mimetype": "text/x-python",
   "name": "python",
   "nbconvert_exporter": "python",
   "pygments_lexer": "ipython3",
   "version": "3.6.2"
  }
 },
 "nbformat": 4,
 "nbformat_minor": 2
}

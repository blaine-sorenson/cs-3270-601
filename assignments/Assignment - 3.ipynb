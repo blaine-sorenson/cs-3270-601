{
 "cells": [
  {
   "cell_type": "markdown",
   "metadata": {},
   "source": [
    "Assignment 3 - Python Functions\n",
    "=====================\n",
    "\n",
    "For this assignment you will be required to create python functions, python decorators and even\n",
    "get a little more familar with python functional programming.  \n",
    "\n"
   ]
  },
  {
   "cell_type": "markdown",
   "metadata": {},
   "source": [
    "## Part 1\n",
    "\n",
    "For the first part we are going to create a function for fibonacci sequence.  You will be required to implement \n",
    "the solution recursively, not iteratively.  \n",
    "\n",
    "Fibonacci is defined by this method: $f(n) = f(n-1) + f(n-2)$  \n",
    "\n",
    "The first few values in the sequence are: $1, 1, 2, 3, 5, 8, 13, 21...$   "
   ]
  },
  {
   "cell_type": "code",
   "execution_count": null,
   "metadata": {
    "collapsed": true
   },
   "outputs": [],
   "source": [
    "# fib function here\n"
   ]
  },
  {
   "cell_type": "code",
   "execution_count": null,
   "metadata": {
    "collapsed": false
   },
   "outputs": [],
   "source": [
    "assert(fib(0) == 1)\n",
    "assert(fib(3) == 3)\n",
    "assert(fib(6) == 13)\n",
    "assert(fib(10) == 89)\n",
    "assert(fib(30) == 1346269)"
   ]
  },
  {
   "cell_type": "markdown",
   "metadata": {},
   "source": [
    "## Part 2\n",
    "\n",
    "For the second part we are going to create our first decorator, this is a method caching one.  Basically\n",
    "we are going to create a decorator that looks at the arguments that are being called and if the call has been\n",
    "made before it looks in its cache for the result and returns the result.  \n",
    "\n",
    "For this decorator, the cache will be a dictionary, and should be allowed to be passed in or default to an empty\n",
    "dictionary if not supplied. Also the decorator will only need to be concerned about positional arguments, \n",
    "it is not required to support keyword arguments.  \n",
    "\n",
    "Once you have the decorator created, paste the fibonacci code you created above and add the newly created decorator\n",
    "and run the results.  If you have added appropriate caching the below assertions should succeed.  "
   ]
  },
  {
   "cell_type": "code",
   "execution_count": null,
   "metadata": {
    "collapsed": false
   },
   "outputs": [],
   "source": [
    "# fun_cache decorator here \n",
    "\n",
    "@fun_cache(cache={})\n",
    "# fib here"
   ]
  },
  {
   "cell_type": "code",
   "execution_count": null,
   "metadata": {
    "collapsed": false
   },
   "outputs": [],
   "source": [
    "assert(fib(0) == 1)\n",
    "assert(fib(3) == 3)\n",
    "assert(fib(6) == 13)\n",
    "assert(fib(10) == 89)\n",
    "assert(fib(30) == 1346269)\n",
    "assert(fib(100) == 573147844013817084101)\n",
    "assert(fib(400) == 284812298108489611757988937681460995615380088782304890986477195645969271404032323901)\n",
    "assert(fib(600) == 178684461669052552311410692812805706249615844217278044703496837914086683543763273909969771627106004287604844670397177991379601)"
   ]
  },
  {
   "cell_type": "markdown",
   "metadata": {},
   "source": [
    "## Part 3\n",
    "\n",
    "For this last part we are going to create one more decorator.  This decorator is a wrapper around call history, \n",
    "basically allowing for a pre and post call hook (method) to be added to any method.  The idea is that the pre-hook\n",
    "will be called before the wrapped method, and the post-hook will be called before the result is returned, this\n",
    "includes passing the result into the post-hook and passing all the args into the pre-hook.  \n",
    "\n",
    "The decorator should also default the pre and post hooks to the print method.  \n",
    "\n",
    "Finally you will need to copy the fib function one more time and apply both the cache and the new hook decorators.  "
   ]
  },
  {
   "cell_type": "code",
   "execution_count": null,
   "metadata": {
    "collapsed": true
   },
   "outputs": [],
   "source": [
    "# hooks decorator here\n",
    "\n",
    "pre=[]\n",
    "post=[]\n",
    "@hooks(pre=lambda x,y: pre.append(x), post=lambda x: post.append(x))\n",
    "@fun_cache(cache={})\n",
    "# place fib here"
   ]
  },
  {
   "cell_type": "code",
   "execution_count": null,
   "metadata": {
    "collapsed": false
   },
   "outputs": [],
   "source": [
    "from collections import Counter\n",
    "\n",
    "assert(fib(8) == 34)\n",
    "\n",
    "call_counter = Counter(pre)\n",
    "assert(call_counter[(0,)] == 1)\n",
    "assert(call_counter[(1,)] == 2)\n",
    "assert(call_counter[(2,)] == 2)\n",
    "assert(call_counter[(3,)] == 2)\n",
    "assert(call_counter[(4,)] == 2)\n",
    "assert(call_counter[(5,)] == 2)\n",
    "assert(call_counter[(6,)] == 2)\n",
    "assert(call_counter[(7,)] == 1)\n",
    "\n",
    "result_counter = Counter(post)\n",
    "assert(result_counter[1] == 3)\n",
    "assert(result_counter[2] == 2)\n",
    "assert(result_counter[3] == 2)\n",
    "assert(result_counter[5] == 2)\n",
    "assert(result_counter[8] == 2)\n",
    "assert(result_counter[13] == 2)\n",
    "assert(result_counter[21] == 1)\n",
    "assert(result_counter[34] == 1)"
   ]
  },
  {
   "cell_type": "code",
   "execution_count": null,
   "metadata": {
    "collapsed": true
   },
   "outputs": [],
   "source": []
  }
 ],
 "metadata": {
  "kernelspec": {
   "display_name": "Python 3",
   "language": "python",
   "name": "python3"
  },
  "language_info": {
   "codemirror_mode": {
    "name": "ipython",
    "version": 3
   },
   "file_extension": ".py",
   "mimetype": "text/x-python",
   "name": "python",
   "nbconvert_exporter": "python",
   "pygments_lexer": "ipython3",
   "version": "3.5.2"
  }
 },
 "nbformat": 4,
 "nbformat_minor": 2
}
